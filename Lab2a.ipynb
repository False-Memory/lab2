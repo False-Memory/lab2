{
 "cells": [
  {
   "cell_type": "code",
   "execution_count": 3,
   "id": "0670e4a2-f14d-4180-a8ae-79c762a38d04",
   "metadata": {},
   "outputs": [],
   "source": [
    "# Add comments before you do anything else.\n",
    "\n",
    "#!/usr/bin/env python3\n",
    "# Author: Daniel Tian\n",
    "# Date: September 20th, 2024\n",
    "# Purpose: Create a variable, check its type and print the variable.\n",
    "# Usage: ./lab2a.py"
   ]
  },
  {
   "cell_type": "code",
   "execution_count": 6,
   "id": "ae10d353-ff10-47e8-8eca-950ef3cd4bb1",
   "metadata": {},
   "outputs": [
    {
     "name": "stdin",
     "output_type": "stream",
     "text": [
      "Enter a number:  7\n"
     ]
    },
    {
     "name": "stdout",
     "output_type": "stream",
     "text": [
      "<class 'str'>\n",
      "<class 'int'>\n",
      "x is greater then 6!\n",
      "x is greater than 4 and less than 12.\n"
     ]
    }
   ],
   "source": [
    "# TO DO 1: Follow the instructions given in README.md file\n",
    "num = input(\"Enter a number: \")\n",
    "print(type(num))\n",
    "x = int(num)\n",
    "print(type(x))\n",
    "if x >= 6:\n",
    "    print(\"x is greater then 6!\")\n",
    "    \n",
    "#x is greater than or equal to 4 and x is less than 12.\n",
    "if x >= 4 and x < 12:\n",
    "    print(\"x is greater than 4 and less than 12.\")\n",
    "else:\n",
    "    print(\"x is not in the range.\")\n"
   ]
  },
  {
   "cell_type": "code",
   "execution_count": null,
   "id": "7bab474d-9a02-47a5-abb9-b5be44174a12",
   "metadata": {},
   "outputs": [],
   "source": []
  }
 ],
 "metadata": {
  "kernelspec": {
   "display_name": "Python 3",
   "language": "python",
   "name": "python3"
  },
  "language_info": {
   "codemirror_mode": {
    "name": "ipython",
    "version": 3
   },
   "file_extension": ".py",
   "mimetype": "text/x-python",
   "name": "python",
   "nbconvert_exporter": "python",
   "pygments_lexer": "ipython3",
   "version": "3.8.8"
  }
 },
 "nbformat": 4,
 "nbformat_minor": 5
}
