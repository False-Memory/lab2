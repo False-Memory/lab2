{
 "cells": [
  {
   "cell_type": "code",
   "execution_count": 1,
   "id": "9c36f516-f355-45c0-b88e-b9b662bed6b4",
   "metadata": {},
   "outputs": [],
   "source": [
    "# Add comments before you do anything else.\n",
    "\n",
    "#!/usr/bin/env python3\n",
    "# Author: Daniel Tian\n",
    "# Date: September 20th, 2024\n",
    "# Purpose: Practice using if and else statments.\n",
    "# Usage: ./lab2b.py"
   ]
  },
  {
   "cell_type": "code",
   "execution_count": 7,
   "id": "daaa34fd-c46f-4d06-a3c0-02d2f064c290",
   "metadata": {},
   "outputs": [
    {
     "name": "stdin",
     "output_type": "stream",
     "text": [
      "Please enter a 4-digit integer:  1984\n"
     ]
    },
    {
     "name": "stdout",
     "output_type": "stream",
     "text": [
      "George Orwell\n"
     ]
    }
   ],
   "source": [
    "# TO DO 1:\n",
    "# Follow the instructions given in the README.md file.\n",
    "number = input(\"Please enter a 4-digit integer: \")\n",
    "\n",
    "# Check if the input is a valid 4-digit integer\n",
    "if number.isdigit() and len(number) == 4:\n",
    "    if int(number) == 1984:\n",
    "        print(\"George Orwell\")\n",
    "    else:\n",
    "        print(\"Not quite right!\")\n",
    "else:\n",
    "    print(\"Please enter a 4-digit integer.\")"
   ]
  },
  {
   "cell_type": "code",
   "execution_count": null,
   "id": "8d0c9b89-9982-48f5-af03-adddc7d978b1",
   "metadata": {},
   "outputs": [],
   "source": []
  }
 ],
 "metadata": {
  "kernelspec": {
   "display_name": "Python 3",
   "language": "python",
   "name": "python3"
  },
  "language_info": {
   "codemirror_mode": {
    "name": "ipython",
    "version": 3
   },
   "file_extension": ".py",
   "mimetype": "text/x-python",
   "name": "python",
   "nbconvert_exporter": "python",
   "pygments_lexer": "ipython3",
   "version": "3.8.8"
  }
 },
 "nbformat": 4,
 "nbformat_minor": 5
}
