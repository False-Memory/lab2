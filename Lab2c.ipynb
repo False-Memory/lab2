{
 "cells": [
  {
   "cell_type": "code",
   "execution_count": 3,
   "id": "6620ab13-f2e8-4267-8bf2-3e63391e890a",
   "metadata": {},
   "outputs": [],
   "source": [
    "# Add comments before you do anything else.\n",
    "\n",
    "#!/usr/bin/env python3\n",
    "# Author: Daniel Tian\n",
    "# Date: September 20th, 2024\n",
    "# Purpose: Practice using if, elif, and else statments.\n",
    "# Usage: ./lab2c.py"
   ]
  },
  {
   "cell_type": "code",
   "execution_count": 11,
   "id": "594ec62c-5371-42e8-afee-a7d36ead8eb2",
   "metadata": {},
   "outputs": [
    {
     "name": "stdin",
     "output_type": "stream",
     "text": [
      "Please enter the First Sentence:  two\n",
      "Please enter the Second Sentence:  one\n"
     ]
    },
    {
     "name": "stdout",
     "output_type": "stream",
     "text": [
      "two and one are equal length\n"
     ]
    }
   ],
   "source": [
    "# TO DO 1:\n",
    "# Prmopt the user to enter a sentence, save it in the variable str1\n",
    "# Prmopt the user to enter another sentence, save it in the variable str2\n",
    "#\n",
    "# Use if, elif, and else statments with the len() function to check which of the 2 is longer.\n",
    "# The final result should be:\n",
    "# ---- is longer then ----\n",
    "# If they are equal then print:\n",
    "# ---- and ---- are equal.\n",
    "# Get input from the user\n",
    "str1 = input(\"Please enter the First Sentence: \")\n",
    "str2 = input(\"Please enter the Second Sentence: \")\n",
    "\n",
    "# Compare the lengths of the two strings\n",
    "if len(str1) == len(str2):\n",
    "    print(str1,\"and\",str2,\"are equal length\")\n",
    "elif len(str1) > len(str2):\n",
    "    print(str1,\"is Longer than\",str2)\n",
    "else:\n",
    "    print(str2,\"is Longer than\",str1)\n"
   ]
  },
  {
   "cell_type": "code",
   "execution_count": null,
   "id": "c0b6517e-b1c8-4a30-b3c0-6397e1f41e5b",
   "metadata": {},
   "outputs": [],
   "source": []
  }
 ],
 "metadata": {
  "kernelspec": {
   "display_name": "Python 3",
   "language": "python",
   "name": "python3"
  },
  "language_info": {
   "codemirror_mode": {
    "name": "ipython",
    "version": 3
   },
   "file_extension": ".py",
   "mimetype": "text/x-python",
   "name": "python",
   "nbconvert_exporter": "python",
   "pygments_lexer": "ipython3",
   "version": "3.8.8"
  }
 },
 "nbformat": 4,
 "nbformat_minor": 5
}
