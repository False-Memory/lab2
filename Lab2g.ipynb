{
 "cells": [
  {
   "cell_type": "code",
   "execution_count": 1,
   "id": "8c223541-63bd-4bbd-b2d3-b0364544deb5",
   "metadata": {},
   "outputs": [],
   "source": [
    "# Add comments before you do anything else.\n",
    "\n",
    "#!/usr/bin/env python3\n",
    "# Author: Daniel Tian\n",
    "# Date: September 20th, 2024\n",
    "# Purpose: Learn how and practice using nested if, elif, and else statments..\n",
    "# Usage: ./lab2g.py"
   ]
  },
  {
   "cell_type": "code",
   "execution_count": 9,
   "id": "01eae2e5-aa31-4ac4-b9a1-ecb13a68b3b4",
   "metadata": {},
   "outputs": [
    {
     "name": "stdin",
     "output_type": "stream",
     "text": [
      "Enter a number preferably in the thousands:  486138\n",
      "Enter whether or not you are Single or Married:  Married\n"
     ]
    },
    {
     "name": "stdout",
     "output_type": "stream",
     "text": [
      "Your tax is : 111934.5\n"
     ]
    }
   ],
   "source": [
    "# TO DO 1: Follow the instructions given in README.md file\n",
    "# Initialize constant variables for the tax rates and rate limits.\n",
    "rate1 = 0.1\n",
    "rate2 = 0.25\n",
    "single_limit = 32000\n",
    "married_limit = 64000\n",
    "\n",
    "income = (input(\"Enter a number preferably in the thousands: \"))\n",
    "\n",
    "while income.isdigit() == False:\n",
    "        income = input(\"Invalid input, Enter a number perferably in the thousands: \")\n",
    "\n",
    "if income.isdigit():\n",
    "    income = int(income)\n",
    "\n",
    "status = input(\"Enter whether or not you are Single or Married: \")\n",
    "\n",
    "while (status.lower() != \"single\" and status.lower() != \"married\"):\n",
    "    status = input(\"Invalid input, Enter Single or Married: \")\n",
    "\n",
    "tax1 = 0\n",
    "tax2 = 0\n",
    "\n",
    "if status.lower() == \"single\":\n",
    "    if income > single_limit:\n",
    "        tax1 = single_limit * rate1\n",
    "        tax2 = (income - single_limit) * rate2\n",
    "    else:\n",
    "        tax1 = income * rate1\n",
    "else:\n",
    "    if income > married_limit:\n",
    "        tax1 = married_limit * rate1\n",
    "        tax2 = (income - married_limit) * rate2\n",
    "    else:\n",
    "        tax1 = income * rate1\n",
    "totalTax = tax1 + tax2\n",
    "\n",
    "print(\"Your tax is :\",totalTax)\n",
    "    "
   ]
  },
  {
   "cell_type": "code",
   "execution_count": null,
   "id": "7e71ce4a-346b-4bf6-b3f1-72632ed9eb12",
   "metadata": {},
   "outputs": [],
   "source": []
  }
 ],
 "metadata": {
  "kernelspec": {
   "display_name": "Python 3",
   "language": "python",
   "name": "python3"
  },
  "language_info": {
   "codemirror_mode": {
    "name": "ipython",
    "version": 3
   },
   "file_extension": ".py",
   "mimetype": "text/x-python",
   "name": "python",
   "nbconvert_exporter": "python",
   "pygments_lexer": "ipython3",
   "version": "3.8.8"
  }
 },
 "nbformat": 4,
 "nbformat_minor": 5
}
