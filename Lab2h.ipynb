{
 "cells": [
  {
   "cell_type": "code",
   "execution_count": 5,
   "id": "31601be0-8494-49fa-a33f-44e481bf791f",
   "metadata": {},
   "outputs": [],
   "source": [
    "# Add comments before you do anything else.\n",
    "\n",
    "#!/usr/bin/env python3\n",
    "# Author: Daniel Tian\n",
    "# Date: September 20th, 2024\n",
    "# Purpose: Learn how to use while loops.\n",
    "# Usage: ./lab2h.py"
   ]
  },
  {
   "cell_type": "code",
   "execution_count": 6,
   "id": "c069d62c-83a1-4e5b-988c-372ecf685d6c",
   "metadata": {},
   "outputs": [
    {
     "name": "stdout",
     "output_type": "stream",
     "text": [
      "10\n",
      "9\n",
      "8\n",
      "7\n",
      "6\n",
      "5\n",
      "4\n",
      "3\n",
      "2\n",
      "1\n",
      "BLAST OFF!!!\n"
     ]
    }
   ],
   "source": [
    "# TO DO 1: \n",
    "# Creat variable timer.\n",
    "# The value of timer should initially be 10.\n",
    "# Use a while loop to create program that counts down from 10 with timer to 1.\n",
    "# When you reach 1 end the loop and print blast off!\n",
    "# Initialize the timer\n",
    "timer = 10\n",
    "\n",
    "while True:\n",
    "    if timer > 0:\n",
    "        print(timer)\n",
    "        timer -= 1\n",
    "    else:\n",
    "        break\n",
    "\n",
    "print(\"Blast off!\")\n"
   ]
  },
  {
   "cell_type": "code",
   "execution_count": null,
   "id": "701c83df-e53f-4c12-ae8a-4c17830f09d1",
   "metadata": {},
   "outputs": [],
   "source": []
  }
 ],
 "metadata": {
  "kernelspec": {
   "display_name": "Python 3",
   "language": "python",
   "name": "python3"
  },
  "language_info": {
   "codemirror_mode": {
    "name": "ipython",
    "version": 3
   },
   "file_extension": ".py",
   "mimetype": "text/x-python",
   "name": "python",
   "nbconvert_exporter": "python",
   "pygments_lexer": "ipython3",
   "version": "3.8.8"
  }
 },
 "nbformat": 4,
 "nbformat_minor": 5
}
