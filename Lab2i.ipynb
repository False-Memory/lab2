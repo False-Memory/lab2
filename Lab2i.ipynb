{
 "cells": [
  {
   "cell_type": "code",
   "execution_count": 1,
   "id": "5fa7689f-042c-4bcd-bc02-66083b099ef4",
   "metadata": {},
   "outputs": [],
   "source": [
    "# Add comments before you do anything else.\n",
    "\n",
    "#!/usr/bin/env python3\n",
    "# Author: Daniel Tian\n",
    "# Date: September 20, 2024\n",
    "# Purpose: Learn how to use while loops for validating user input.\n",
    "# Usage: ./lab2i.py"
   ]
  },
  {
   "cell_type": "code",
   "execution_count": 3,
   "id": "337b7f32-ad93-4d04-83ee-3ec5691dbbc9",
   "metadata": {},
   "outputs": [
    {
     "name": "stdin",
     "output_type": "stream",
     "text": [
      "Please type in your PIN:  asd\n",
      "Invalid input, Please type in your PIN 12345\n"
     ]
    },
    {
     "name": "stdout",
     "output_type": "stream",
     "text": [
      "Incorrect...try again\n"
     ]
    },
    {
     "name": "stdin",
     "output_type": "stream",
     "text": [
      "Please type in your PIN:  12345\n"
     ]
    },
    {
     "name": "stdout",
     "output_type": "stream",
     "text": [
      "Incorrect...try again\n"
     ]
    },
    {
     "name": "stdin",
     "output_type": "stream",
     "text": [
      "Please type in your PIN:  sdf\n",
      "Invalid input, Please type in your PIN 1234\n"
     ]
    },
    {
     "name": "stdout",
     "output_type": "stream",
     "text": [
      "Correct Pin, You can enter!\n"
     ]
    }
   ],
   "source": [
    "# TO DO 1: \n",
    "# Creat variable pin. The value of pin should be a 4 digit code inputted by the user.\n",
    "# Add a while loop to create program that wont end until the user enters 1234.\n",
    "# Follow the specific instructions given in the README.md file.\n",
    "password = 1234\n",
    "\n",
    "pin = input(\"Please type in your PIN: \")\n",
    "\n",
    "while pin.isdigit() == False:\n",
    "    pin = input(\"Invalid input, Please type in your PIN\")\n",
    "\n",
    "while int(pin) != password:\n",
    "    print(\"Incorrect...try again\")\n",
    "    pin = input(\"Please type in your PIN: \")\n",
    "    while pin.isdigit() == False:\n",
    "        pin = input(\"Invalid input, Please type in your PIN\")\n",
    "    \n",
    "print(\"Correct Pin, You can enter!\")"
   ]
  },
  {
   "cell_type": "code",
   "execution_count": null,
   "id": "13f9cfce-07af-4997-bb28-f67edb74bd74",
   "metadata": {},
   "outputs": [],
   "source": []
  }
 ],
 "metadata": {
  "kernelspec": {
   "display_name": "Python 3",
   "language": "python",
   "name": "python3"
  },
  "language_info": {
   "codemirror_mode": {
    "name": "ipython",
    "version": 3
   },
   "file_extension": ".py",
   "mimetype": "text/x-python",
   "name": "python",
   "nbconvert_exporter": "python",
   "pygments_lexer": "ipython3",
   "version": "3.8.8"
  }
 },
 "nbformat": 4,
 "nbformat_minor": 5
}
