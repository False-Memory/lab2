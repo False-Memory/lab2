{
 "cells": [
  {
   "cell_type": "code",
   "execution_count": 4,
   "id": "73832e47-2ea4-4ba2-8698-0032991c2014",
   "metadata": {},
   "outputs": [],
   "source": [
    "# Add comments before you do anything else.\n",
    "\n",
    "#!/usr/bin/env python3\n",
    "# Author: Daniel Tian\n",
    "# Date: September 20, 2024\n",
    "# Purpose: Learn how to use while loops with break and continue.\n",
    "# Usage: ./lab2j.py"
   ]
  },
  {
   "cell_type": "code",
   "execution_count": 14,
   "id": "1f52b042-e20a-4145-9971-717ed48a7cfa",
   "metadata": {},
   "outputs": [
    {
     "name": "stdin",
     "output_type": "stream",
     "text": [
      "Please type in a number:  asd\n",
      "Invalid input, Please type in a number: asd\n",
      "Invalid input, Please type in a number: \n",
      "Invalid input, Please type in a number: dqwd\n",
      "Invalid input, Please type in a number: cc\n",
      "Invalid input, Please type in a number: sa\n",
      "Invalid input, Please type in a number: s\n",
      "Invalid input, Please type in a number: x\n",
      "Invalid input, Please type in a number: c\n",
      "Invalid input, Please type in a number: 21\n"
     ]
    },
    {
     "name": "stdout",
     "output_type": "stream",
     "text": [
      "4.58257569495584\n"
     ]
    },
    {
     "name": "stdin",
     "output_type": "stream",
     "text": [
      "Please type in a number:  12\n"
     ]
    },
    {
     "name": "stdout",
     "output_type": "stream",
     "text": [
      "3.4641016151377544\n"
     ]
    },
    {
     "name": "stdin",
     "output_type": "stream",
     "text": [
      "Please type in a number:  0\n"
     ]
    },
    {
     "name": "stdout",
     "output_type": "stream",
     "text": [
      "Exiting...\n"
     ]
    }
   ],
   "source": [
    "# TO DO 1: \n",
    "# Import the `math` module.\n",
    "# Define a variable named num. Prompt the user to input a number and assign it to the variable num.\n",
    "# Convert the user input to a floating-point number and assign it to num.\n",
    "from math import sqrt\n",
    "# TO DO 2: \n",
    "# Create an infinite loop using while True. Inside the loop:\n",
    "# Check if num is negative:\n",
    "# If it is, print \"Invalid number.\" and continue to the next iteration of the loop.\n",
    "\n",
    "while True:\n",
    "    num = input(\"Please type in a number: \")\n",
    "    while num.isdigit() == False:\n",
    "        num = input(\"Invalid input, Please type in a number:\")\n",
    "    num = int(num)\n",
    "    if num < 0:\n",
    "        num = input(\"Invalid number.\")\n",
    "# TO DO 3: \n",
    "# Check if num is zero:\n",
    "# If it is, print \"Exiting...\" and break out of the loop.\n",
    "    elif num == 0:\n",
    "        print(\"Exiting...\")\n",
    "        break\n",
    "# TO DO 4: \n",
    "#Calculate the square root of num using the math.sqrt function.\n",
    "    else:\n",
    "        print(sqrt(num))"
   ]
  },
  {
   "cell_type": "code",
   "execution_count": null,
   "id": "95cd7ff9-05df-45a6-8bc9-c70331523d96",
   "metadata": {},
   "outputs": [],
   "source": []
  }
 ],
 "metadata": {
  "kernelspec": {
   "display_name": "Python 3",
   "language": "python",
   "name": "python3"
  },
  "language_info": {
   "codemirror_mode": {
    "name": "ipython",
    "version": 3
   },
   "file_extension": ".py",
   "mimetype": "text/x-python",
   "name": "python",
   "nbconvert_exporter": "python",
   "pygments_lexer": "ipython3",
   "version": "3.8.8"
  }
 },
 "nbformat": 4,
 "nbformat_minor": 5
}
