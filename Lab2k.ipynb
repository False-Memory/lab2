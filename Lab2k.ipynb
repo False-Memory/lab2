{
 "cells": [
  {
   "cell_type": "code",
   "execution_count": 12,
   "id": "f383bdba-818a-4b47-8db2-e5029de35905",
   "metadata": {},
   "outputs": [
    {
     "name": "stdout",
     "output_type": "stream",
     "text": [
      "2550\n"
     ]
    }
   ],
   "source": [
    "# Add comments before you do anything else.\n",
    "\n",
    "#!/usr/bin/env python3\n",
    "# Author: Daniel Tian\n",
    "# Date: September 20, 2024\n",
    "# Purpose: use for loop.\n",
    "# Usage: ./lab2k.py\n",
    "\n",
    "# TO DO 1: \n",
    "#Follow the instructions given in the README.md file.\n",
    "Sum = 0\n",
    "for a in range(1,101):\n",
    "    if a % 2 == 0:\n",
    "        Sum = Sum + a\n",
    "print(Sum)"
   ]
  },
  {
   "cell_type": "code",
   "execution_count": null,
   "id": "fff66b8a-44a4-4ba5-995b-3350ef48c81f",
   "metadata": {},
   "outputs": [],
   "source": []
  }
 ],
 "metadata": {
  "kernelspec": {
   "display_name": "Python 3",
   "language": "python",
   "name": "python3"
  },
  "language_info": {
   "codemirror_mode": {
    "name": "ipython",
    "version": 3
   },
   "file_extension": ".py",
   "mimetype": "text/x-python",
   "name": "python",
   "nbconvert_exporter": "python",
   "pygments_lexer": "ipython3",
   "version": "3.8.8"
  }
 },
 "nbformat": 4,
 "nbformat_minor": 5
}
